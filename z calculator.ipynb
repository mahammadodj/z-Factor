{
 "cells": [
  {
   "cell_type": "code",
   "execution_count": 1,
   "id": "19d63114",
   "metadata": {},
   "outputs": [],
   "source": [
    "import numpy as np\n",
    "import sympy as sp"
   ]
  },
  {
   "cell_type": "code",
   "execution_count": null,
   "id": "c81cc147",
   "metadata": {},
   "outputs": [
    {
     "name": "stdout",
     "output_type": "stream",
     "text": [
      "0.4098447845435798\n",
      "0.0669885517855957*rho_pr**5 + 1.99387389764737*rho_pr**2*(0.4422614*rho_pr**2 + 0.6134)*exp(-0.721*rho_pr**2) - 0.0868612858484444*rho_pr**2 - 2.208534263929*rho_pr + 1 - 0.40984478454358/rho_pr\n",
      "0.334942758927979*rho_pr**4 - 2.87516616040751*rho_pr**3*(0.4422614*rho_pr**2 + 0.6134)*exp(-0.721*rho_pr**2) + 1.76362692279397*rho_pr**3*exp(-0.721*rho_pr**2) + 3.98774779529474*rho_pr*(0.4422614*rho_pr**2 + 0.6134)*exp(-0.721*rho_pr**2) - 0.173722571696889*rho_pr - 2.208534263929 + 0.40984478454358/rho_pr**2\n",
      "rho_pr was defined at 17th iteration: -2.50524715387353\n",
      "Z is: -0.163594551503587\n",
      "Pseudo reduced pressure:  1.2060253024108447\n",
      "------------------------------------------------------------\n",
      "Pseudo reduced temperature:  0.7945125665404275\n",
      "rho 0:  0.4098447845435798\n"
     ]
    },
    {
     "ename": "",
     "evalue": "",
     "output_type": "error",
     "traceback": [
      "\u001b[1;31mThe Kernel crashed while executing code in the current cell or a previous cell. \n",
      "\u001b[1;31mPlease review the code in the cell(s) to identify a possible cause of the failure. \n",
      "\u001b[1;31mClick <a href='https://aka.ms/vscodeJupyterKernelCrash'>here</a> for more info. \n",
      "\u001b[1;31mView Jupyter <a href='command:jupyter.viewOutput'>log</a> for further details."
     ]
    }
   ],
   "source": [
    "# Define newton_raphson function if not already defined\n",
    "def func_calc(func, rho_pr, val):\n",
    "    \"\"\"Evaluate a given function func, whose varible is x, with value val\"\"\"\n",
    "    return func.subs(rho_pr, val).evalf()\n",
    "\n",
    "def newton_raphson(f, df, rho_pr0, rho_pr,tol=1e-7, max_iter=100):\n",
    "    x0 = rho_pr0\n",
    "    for iter in range(max_iter):\n",
    "        x1 = x0 - func_calc(f, rho_pr, x0) / func_calc(df, rho_pr, x0)\n",
    "        # print('f: ', func_calc(f, rho_pr, x0))\n",
    "        # print('f prime: ', func_calc(df, rho_pr, x0))\n",
    "        # print(x1)\n",
    "        # break\n",
    "        if abs(x1 - x0) < tol:\n",
    "            print(f\"rho_pr was defined at {iter+1}th iteration: {x1}\")\n",
    "            return x1\n",
    "        x0 = x1\n",
    "    print(f\"rho_pr was defined at {iter+1}th iteration: {x1}\")\n",
    "    return x1\n",
    "\n",
    "def main(P, T, sg):\n",
    "    A = np.array([0.3265, -1.0700, -0.5339, 0.01569, -0.05165, 0.5475, -0.7361, 0.1844, 0.1056, 0.6134, 0.7210])\n",
    "    rho_pr = sp.symbols('rho_pr')\n",
    "    Pc = 756.8 - 131 * sg - 3.6 * sg ** 2\n",
    "    Tc = 169.2 + 349.5 * sg - 74 * sg ** 2\n",
    "    Ppr = P/Pc\n",
    "    Tpr = T/Tc\n",
    "    #Assume Z_0=1\n",
    "    rho_pr0 = 0.27 * Ppr / Tpr\n",
    "    print(rho_pr0)\n",
    "    term1 = 1\n",
    "    term2 = (A[0] + A[1] / Tpr + A[2] / Tpr ** 3 + A[3] / Tpr ** 4 + A[4] / Tpr ** 5) * rho_pr\n",
    "    term3 = (A[5] + A[6] / Tpr + A[7] / Tpr ** 2) * rho_pr ** 2\n",
    "    term4 = - (A[8] * (A[6] / Tpr + A[7] / Tpr ** 2) * rho_pr ** 5)\n",
    "    term5 = A[9] * (1 + A[10] * rho_pr ** 2) * (rho_pr ** 2 / Tpr ** 3) * sp.exp(-A[10] * rho_pr ** 2)\n",
    "    term6 = - 0.27 * Ppr / (Tpr * rho_pr)\n",
    "    \n",
    "    # Define the function\n",
    "    f = term1 + term2 + term3 + term4 + term5 + term6\n",
    "    df = sp.diff(f, rho_pr)\n",
    "    print(f)\n",
    "    print(df)\n",
    "    rho_pr = newton_raphson(f, df, rho_pr0, rho_pr, tol=1e-7)\n",
    "    z = 0.27 * Ppr / (Tpr * rho_pr)\n",
    "    print(f\"Z is: {z}\")\n",
    "    return z, Ppr, Tpr, rho_pr0\n",
    "\n",
    "Pr_list = []\n",
    "z_list = []\n",
    "if __name__ == '__main__':\n",
    "    sg = 0.7\n",
    "    P = np.array([600, 700, 800])\n",
    "    T = 300\n",
    "    for p in P:\n",
    "        z, Ppr, Tpr, rho_pr0 = main(p, T, sg)\n",
    "        print('Pseudo reduced pressure: ', Ppr)\n",
    "        print(\"-\"*60)\n",
    "    print('Pseudo reduced temperature: ', Tpr)\n",
    "    print('rho 0: ', rho_pr0)"
   ]
  },
  {
   "cell_type": "code",
   "execution_count": 7,
   "id": "57805e60",
   "metadata": {},
   "outputs": [],
   "source": [
    "from scipy import optimize\n",
    "import math"
   ]
  },
  {
   "cell_type": "code",
   "execution_count": 23,
   "id": "3224a08e",
   "metadata": {},
   "outputs": [
    {
     "data": {
      "text/plain": [
       "2.245809139760747"
      ]
     },
     "execution_count": 23,
     "metadata": {},
     "output_type": "execute_result"
    }
   ],
   "source": [
    "def f(rho_pr):\n",
    "    return 0.0669885517855957*rho_pr**5 + 1.99387389764737*rho_pr**2*(0.4422614*rho_pr**2 + 0.6134)*math.exp(-0.721*rho_pr**2) - 0.0868612858484444*rho_pr**2 - 2.208534263929*rho_pr + 1 - 0.40984478454358/rho_pr\n",
    "\n",
    "def fprime(rho_pr):\n",
    "    return 0.334942758927979*rho_pr**4 - 2.87516616040751*rho_pr**3*(0.4422614*rho_pr**2 + 0.6134)*math.exp(-0.721*rho_pr**2) + 1.76362692279397*rho_pr**3*math.exp(-0.721*rho_pr**2) + 3.98774779529474*rho_pr*(0.4422614*rho_pr**2 + 0.6134)*math.exp(-0.721*rho_pr**2) - 0.173722571696889*rho_pr - 2.208534263929 + 0.40984478454358/rho_pr**2\n",
    "\n",
    "root = optimize.newton(f, 0.5379212797134484, fprime=fprime)\n",
    "root"
   ]
  },
  {
   "cell_type": "code",
   "execution_count": 24,
   "id": "0e135dd0",
   "metadata": {},
   "outputs": [
    {
     "data": {
      "text/plain": [
       "0.4098447845435798"
      ]
     },
     "execution_count": 24,
     "metadata": {},
     "output_type": "execute_result"
    }
   ],
   "source": [
    "rho_pr0"
   ]
  },
  {
   "cell_type": "code",
   "execution_count": 25,
   "id": "dcb1aeb3",
   "metadata": {},
   "outputs": [
    {
     "name": "stdout",
     "output_type": "stream",
     "text": [
      "1.0302405816897189\n"
     ]
    }
   ],
   "source": [
    "print(rho_pr0-f(rho_pr0)/fprime(rho_pr0))"
   ]
  },
  {
   "cell_type": "code",
   "execution_count": 26,
   "id": "bc68769d",
   "metadata": {},
   "outputs": [
    {
     "name": "stdout",
     "output_type": "stream",
     "text": [
      "-0.7149244864905396\n"
     ]
    }
   ],
   "source": [
    "print(f(rho_pr0))"
   ]
  },
  {
   "cell_type": "code",
   "execution_count": 27,
   "id": "c505ecea",
   "metadata": {},
   "outputs": [
    {
     "data": {
      "text/plain": [
       "1.1523683586820521"
      ]
     },
     "execution_count": 27,
     "metadata": {},
     "output_type": "execute_result"
    }
   ],
   "source": [
    "fprime(rho_pr0)"
   ]
  },
  {
   "cell_type": "code",
   "execution_count": null,
   "id": "df5bb34e",
   "metadata": {},
   "outputs": [],
   "source": []
  }
 ],
 "metadata": {
  "kernelspec": {
   "display_name": "Python 3 (ipykernel)",
   "language": "python",
   "name": "python3"
  },
  "language_info": {
   "codemirror_mode": {
    "name": "ipython",
    "version": 3
   },
   "file_extension": ".py",
   "mimetype": "text/x-python",
   "name": "python",
   "nbconvert_exporter": "python",
   "pygments_lexer": "ipython3",
   "version": "3.8.8"
  }
 },
 "nbformat": 4,
 "nbformat_minor": 5
}
